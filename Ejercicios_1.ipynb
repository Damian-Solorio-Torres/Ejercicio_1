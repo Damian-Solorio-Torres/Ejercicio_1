{
  "nbformat": 4,
  "nbformat_minor": 0,
  "metadata": {
    "colab": {
      "name": "Ejercicios_1.ipynb",
      "provenance": [],
      "collapsed_sections": [
        "Grqvay685SBq",
        "asWjcA51Dx_j"
      ]
    },
    "kernelspec": {
      "name": "python3",
      "display_name": "Python 3"
    }
  },
  "cells": [
    {
      "cell_type": "markdown",
      "metadata": {
        "id": "7igYRRHqBbfY"
      },
      "source": [
        "##Problemas de preparacion para examen Analisis numerico\n",
        "Solorio Torres Damián 3AV1"
      ]
    },
    {
      "cell_type": "markdown",
      "metadata": {
        "id": "EqB5ethi2bl8"
      },
      "source": [
        "#1. Desarrollar un programa que lea una variable de tipo entera value, indique si es un número\n",
        "par o impar."
      ]
    },
    {
      "cell_type": "code",
      "metadata": {
        "id": "_kNsA2dP2bE2"
      },
      "source": [
        "Num= int( input(\"introduzca numero a estudiar: \"))\n",
        "\n",
        "N=Num%2\n",
        "\n",
        "if N==1:\n",
        "  print(\"el numero es impar\")\n",
        "else:\n",
        "  print(\"El numero es par\")\n"
      ],
      "execution_count": null,
      "outputs": []
    },
    {
      "cell_type": "markdown",
      "metadata": {
        "id": "exHzemADCHNb"
      },
      "source": [
        "#2. Desarrolle un programa en el que el usuario introduzca una cadena de caracteres y un númeroentero, después el programa debe de imprimir la cadena de caracteres tantas veces como elnúemero enteroEjemplo: Si el usuario introduce la cadena de caracteres I <3 IPN y después introduce 3,lasalida del programa debe de ser\n",
        "I <3 IPN\n",
        "I <3 IPN\n",
        "I <3 IPN\n"
      ]
    },
    {
      "cell_type": "code",
      "metadata": {
        "id": "gkgkgt5CCEmG"
      },
      "source": [
        "Cadena= input(\"intoduce texto: \")\n",
        "N= int(input(\"Numero de veces a repetir: \"))\n",
        "C=0\n",
        "while C<=N:\n",
        "  C=C+1\n",
        "  print (Cadena)\n",
        "  if C==N:\n",
        "    break\n",
        "\n"
      ],
      "execution_count": null,
      "outputs": []
    },
    {
      "cell_type": "markdown",
      "metadata": {
        "id": "mbR__SgxWeX6"
      },
      "source": [
        "#3. Escribir una función que reciba como argumentos el número de horas y el costo por hora dejarlo como argumento predefinido en 150 la función debe de regresar el pago del empleado en un día, en una semana (5 días) y en un mes (20 días)."
      ]
    },
    {
      "cell_type": "code",
      "metadata": {
        "id": "dnZSmTc8Y1SX"
      },
      "source": [
        "CostoHora=150\n",
        "Dia=int(input(\"intoduzca el numero de horas laboradas del dia: \"))\n",
        "S=5\n",
        "M=20\n",
        "\n",
        "print(\"Pago del empleado por dia \",Dia*CostoHora)\n",
        "print( \"Pago del empleado por semana: \", Dia*S*CostoHora)\n",
        "print(\"Pago del empleado por mes: \", Dia*M*CostoHora)"
      ],
      "execution_count": null,
      "outputs": []
    },
    {
      "cell_type": "markdown",
      "metadata": {
        "id": "seekANlubxj6"
      },
      "source": [
        "#4. Escribir el código de una calculadora, que inicialmente muestre el menú y dependiendo de la opción elegida por el usuario se desarrolle la operación, observe que en la división el denominador no puede ser cero, en caso que sea así, debe de entrar en un bucle while que esté leyendo el denominador de nuevo hasta que éste sea distinto de cero\n",
        "a. suma\n",
        "b. resta\n",
        "c. multiplicación\n",
        "d. división\n",
        "Introduzca una opción:"
      ]
    },
    {
      "cell_type": "code",
      "metadata": {
        "id": "eaUkS2NxdNXQ"
      },
      "source": [
        "\n",
        "Num1=float(input(\"introduzca primer numero: \"))\n",
        "Num2=float(input(\"introduzca segundo numero: \"))\n",
        "\n",
        "opcion=input(\"que operacion deseas hacer?\\n\"\n",
        "              \"Presiona 1 para sumar\\n\"\n",
        "              \"Presiona 2 para restar\\n\"\n",
        "              \"Presiona 3 para multiplicar\\n\"\n",
        "              \"Presiona 4 para dividir\\n\")\n",
        "opel=int (opcion)\n",
        "\n",
        "\n",
        "if opel==1:\n",
        "    resul=int (Num1)+int (Num2)\n",
        "    print(\"la suma es \", str (resul))\n",
        "\n",
        "\n",
        "\n",
        "if opel==2:\n",
        "    resul=int (Num1)-int (Num2)\n",
        "    print(\"la resta es: \", str (resul))\n",
        "\n",
        "\n",
        "\n",
        "if opel==3:\n",
        "   resul=int (Num1)*int (Num2)\n",
        "   print(\"la Multiplicacion es: \", str(resul))\n",
        "\n",
        "\n",
        "\n",
        "if opel==4:\n",
        "\n",
        "   while (Num2==0):\n",
        "     divisor=float(input(\"digite un numero diferente de cero!!\"))\n",
        "     resul=int (Num1)/int (divisor)\n",
        "     print(\"la division es: \", str (resul))\n",
        "     if divisor!=0:\n",
        "       break\n"
      ],
      "execution_count": null,
      "outputs": []
    },
    {
      "cell_type": "markdown",
      "metadata": {
        "id": "c2wSYDBrS7wP"
      },
      "source": [
        "#5. Una tienda de juguetes tiene dos productos estrella, un payaso y un juego de mesa, el payaso pesa 150 gr y el juego de mesa pesa 170 gr. Hacer una función que reciba el númeroo de payasos y el número de juegos de mesa por pedido, si el peso total del pedido es mayor a 10 kg, debe de mandar error, debe de inidicar por cuántos gramos se pasó el envío y debe de regresar False al programa principal."
      ]
    },
    {
      "cell_type": "code",
      "metadata": {
        "id": "IAWwC7-4TgwA"
      },
      "source": [
        "payaso=150\n",
        "mesa=170\n",
        "NumPay=int (input(\"cuantos payasos contiene el pedido: \"))\n",
        "NumMes=int (input(\"Cuantos juegos de mesa contiene el pedido: \"))\n",
        "Sumatoria= NumPay * payaso + NumMes * mesa\n",
        "def Pedido(Payasos, JdeMesa):\n",
        "  Sumatoria= NumPay * payaso + NumMes * mesa\n",
        "if Sumatoria>10000:\n",
        "  print(\"Error\")\n",
        "  print(\"El pedido sobre paso por: \", Sumatoria-10000,\"gramos\")\n",
        "\n",
        "else:\n",
        "  print(\"El peso del pedido es de: \",Sumatoria, \"gramos\")\n",
        "\n",
        "print(Sumatoria<10000)\n",
        "\n"
      ],
      "execution_count": null,
      "outputs": []
    },
    {
      "cell_type": "markdown",
      "metadata": {
        "id": "Grqvay685SBq"
      },
      "source": [
        "#6. Suponga que el impuesto que se debe de pagar por el salario ganado esté regido por la siguiente tabla:\n",
        "Ingreso || ||| ||| |||||| Impuesto\\\n",
        "Menos de 10 mil |||||||||| 5%\\\n",
        "Entre 10 mil y 15 mil || 10%\\\n",
        "Entre 15 mil y 20 mil || 15%\\\n",
        "Más de 20 mil ||||||||||||| 18%\\\n",
        "Table 1: Ingreso mensual e impuestos\\\n",
        "\n",
        "#Desarrolle una función que acepte como argumento el salario, y la función debe de mostrar el rango en que se encuentra, y debe de regresar el salario con el descuento del impuesto, si la función se ha podido desarrollar con éxito, debe de regresar True\n"
      ]
    },
    {
      "cell_type": "code",
      "metadata": {
        "id": "HAOU2_bl6gHk"
      },
      "source": [
        "Ingreso= int (input(\"de cuanto es tu ingreso: \"))\n",
        "Imp=[0.05,0.10,0.15,0.18]\n",
        "Salario=0\n",
        "impuesto=0\n",
        "\n",
        "if Ingreso<10000:\n",
        "  print(\"su rango es de menos de 10,000\")\n",
        "  Impuesto=Ingreso * Imp[0]\n",
        "  print(\"se le descontara:\", Impuesto,\"por impuesto\")\n",
        "  Salario=Ingreso-Impuesto\n",
        "  print(\"Su saliario neto es de: \",Salario)\n",
        "  print(\"la funcion se pudo llevar a cabo con exito: \",Salario>=0)\n",
        "if 10000<Ingreso<15000:\n",
        "  print(\"su rango esta entre 10,000 y 15,000\")\n",
        "  Impuesto=Ingreso * Imp[1]\n",
        "  print(\"se le descontara:\", Impuesto,\"por impuesto\")\n",
        "  Salario=Ingreso-Impuesto\n",
        "  print(\"Su saliario neto es de: \",Salario)\n",
        "  print(\"la funcion se pudo llevar a cabo con exito: \",Salario>=0)\n",
        "if 15000<Ingreso<20000:\n",
        "  print(\"su rango esta entre 15,000 y 20,000\")\n",
        "  Impuesto=Ingreso * Imp[2]\n",
        "  print(\"se le descontara:\", Impuesto,\"por impuesto\")\n",
        "  Salario=Ingreso-Impuesto\n",
        "  print(\"Su saliario neto es de: \",Salario)\n",
        "  print(\"la funcion se pudo llevar a cabo con exito: \",Salario>=0)\n",
        "if 20000<Ingreso:\n",
        "  print(\"su rango sobrepasa los 20,000\")\n",
        "  Impuesto=Ingreso * Imp[3]\n",
        "  print(\"se le descontara:\", Impuesto,\"por impuesto\")\n",
        "  Salario=Ingreso-Impuesto\n",
        "  print(\"Su saliario neto es de: \",Salario)\n",
        "  print(\"la funcion se pudo llevar a cabo con exito: \",Salario>=0)"
      ],
      "execution_count": null,
      "outputs": []
    },
    {
      "cell_type": "markdown",
      "metadata": {
        "id": "asWjcA51Dx_j"
      },
      "source": [
        "#7. Escribir un programa para un museo, donde se deben de mandar a una función los siguientesparámetros, edad y ocupación. Se deben de aplicar los siguintes costos y descuentos:\n",
        "Rango de edad__________ Impuesto\\\n",
        "Menor de cuatro años____ Gratis\\\n",
        "Entre 4 y 16 años__________ 50\\\n",
        "Adultos -------------------- $100\\\n",
        "Table 2: Costos\\\n",
        "Concepto___________________ Impuesto\\\n",
        "Estudiante con credencial ------10%\\\n",
        "Docente con credencial   _____ 30%\\\n",
        "INAPAM               --- 50%\\\n",
        "Table 3: Costos"
      ]
    },
    {
      "cell_type": "code",
      "metadata": {
        "id": "4WVmekZrFUwP"
      },
      "source": [
        "\n",
        "\n",
        "Edad= int (input(\"introduzca su edad: \"))\n",
        "cost=[50,100]\n",
        "desc=0\n",
        "pago=0\n",
        "\n",
        "CostoEntrada=Edad-desc\n",
        "  \n",
        "if Edad<=4:\n",
        "  print(\"la Entrada es totalmente gratis :)\")\n",
        "  print(\"adelante puede pasar!!\")\n",
        "\n",
        "\n",
        "elif 4<Edad<=18:\n",
        "   print(\"La entrada tiene un costo de $50 \")\n",
        "   print(\"Si es Estudiante con credencial, preione 1\\n\")\n",
        "   Ocup= int(input(\"introduzca su ocopacion: \"))\n",
        "\n",
        "if Ocup==1:\n",
        "  print(\"tienes un descuento del 10%\")\n",
        "  desc= cost[0]*0.10\n",
        "  pago=cost[0]-desc\n",
        "  print(\"Solo pagas: \",pago)\n",
        "\n",
        "if 18<Edad:\n",
        "  print(\"la entrada tiene un costo de $100\")\n",
        "  print(\"Si es Docente con credencial, presione 2\\n\")\n",
        "  print(\"Si es personal del INAPAM presione 3\\n\")\n",
        "  Ocup= int(input(\"introduzca su ocopacion: \"))\n",
        "elif Ocup==2:\n",
        "  print(\"tiene un descuento del 30% \")\n",
        "  desc= cost[1]*0.30\n",
        "  pago=cost[1]-desc\n",
        "  print(\"Solo pagas: \",pago)\n",
        "   \n",
        "if Ocup==3:\n",
        "  print(\"tiene un descuento del 50%\")\n",
        "  desc= cost[1]*0.50\n",
        "  pago=cost[1]-desc\n",
        "  print(\"Solo pagas: \",pago)\n",
        "\n"
      ],
      "execution_count": null,
      "outputs": []
    },
    {
      "cell_type": "markdown",
      "metadata": {
        "id": "uZRiXK6VS2jr"
      },
      "source": [
        "#8. Escribir un programa que pida al usuario un número entero y muestre en pantalla un tríangulo rectángulo el que se muestra. Ejemplo: si el usuario ha introducido 4 se debe de mostrar el siguiente patrón:\n",
        "*\\\n",
        "**\\\n",
        "***\\\n",
        "****\\"
      ]
    },
    {
      "cell_type": "code",
      "metadata": {
        "id": "O8juDA2aTe91"
      },
      "source": [
        "def triangulo(n):\n",
        "  \n",
        "    return \"\\n\".join([\"*\"*i for i in range(1,n+1)])\n",
        " \n",
        "numero=int(input(\"indica un numero: \"))\n",
        "print(triangulo(numero))"
      ],
      "execution_count": null,
      "outputs": []
    },
    {
      "cell_type": "markdown",
      "metadata": {
        "id": "TZ-LzUWBwU-T"
      },
      "source": [
        "#9. Escribir una función que reciba un número entero positivo y devuelva su factorial."
      ]
    },
    {
      "cell_type": "code",
      "metadata": {
        "id": "9AV42ATFxEXL"
      },
      "source": [
        "def factorial(numero):\n",
        "  if numero>=1:\n",
        "    f=numero\n",
        "    while numero>=2:\n",
        "      numero=numero-1\n",
        "      f=f*(numero)\n",
        "  print(\"el faactorial es: \",f)\n",
        "  if numero==0:\n",
        "    print(\"el factorial es 1\")\n",
        "factorial(int(input(\"ingrese un numero entero: \")))\n",
        "\n",
        "\n"
      ],
      "execution_count": null,
      "outputs": []
    },
    {
      "cell_type": "markdown",
      "metadata": {
        "id": "bYbXvPDzGrIh"
      },
      "source": [
        "#10. Escribir una función que calcule el área de un círculo y ota que calcule el volumen de un cilindro utilizando la primera función."
      ]
    },
    {
      "cell_type": "code",
      "metadata": {
        "id": "jfVcns7YG_a5",
        "outputId": "38c4ddf3-1886-42e1-cc0e-1277a349174e",
        "colab": {
          "base_uri": "https://localhost:8080/"
        }
      },
      "source": [
        "def Area_circ(pi, radio):\n",
        "  pi=3.1416\n",
        "  area=pi*radio**2\n",
        "  print(\"el area es: \",area)\n",
        "radio= float(input(\"introduzca el radio del circulo: \"))\n",
        "Area_circ(pi,radio)\n",
        "\n",
        "def Vol_cilin (pi,radio,altura):\n",
        "  volumen=pi*radio**2*altura\n",
        "  print(\"el volumen total es: \", volumen)\n",
        "altura= float(input(\"introduzca la altura del cilindro: \"))\n",
        "Vol_cilin(pi,radio,altura)\n"
      ],
      "execution_count": 122,
      "outputs": [
        {
          "output_type": "stream",
          "text": [
            "introduzca el radio del circulo: 12\n",
            "el area es:  452.3904\n",
            "introduzca la altura del cilindro: 4\n",
            "el volumen total es:  1809.5040000000001\n"
          ],
          "name": "stdout"
        }
      ]
    }
  ]
}